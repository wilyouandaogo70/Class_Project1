{
  "nbformat": 4,
  "nbformat_minor": 0,
  "metadata": {
    "colab": {
      "provenance": [],
      "mount_file_id": "1vmEPhzecd6WYKs5wSI-rDSxOHDblIraE",
      "authorship_tag": "ABX9TyMs7v8x+Y7d/CEW2yqiwFXt",
      "include_colab_link": true
    },
    "kernelspec": {
      "name": "python3",
      "display_name": "Python 3"
    },
    "language_info": {
      "name": "python"
    }
  },
  "cells": [
    {
      "cell_type": "markdown",
      "metadata": {
        "id": "view-in-github",
        "colab_type": "text"
      },
      "source": [
        "<a href=\"https://colab.research.google.com/github/wilyouandaogo70/Class_Project1/blob/main/DPMLtest.ipynb\" target=\"_parent\"><img src=\"https://colab.research.google.com/assets/colab-badge.svg\" alt=\"Open In Colab\"/></a>"
      ]
    },
    {
      "cell_type": "code",
      "execution_count": 1,
      "metadata": {
        "id": "AB-hp_i5ph9K"
      },
      "outputs": [],
      "source": [
        "import numpy as np\n",
        "import pickle\n"
      ]
    },
    {
      "cell_type": "code",
      "source": [
        "model = pickle.load(open('/content/drive/MyDrive/Project_PA_2024/class_assignment_project/model1.pkl', 'rb'))"
      ],
      "metadata": {
        "id": "M_1FhRhNqHcS"
      },
      "execution_count": 6,
      "outputs": []
    },
    {
      "cell_type": "code",
      "source": [
        "test_x = np.zeros((1, 6))\n",
        "test_x"
      ],
      "metadata": {
        "colab": {
          "base_uri": "https://localhost:8080/"
        },
        "id": "2WjhqyHOqHVx",
        "outputId": "ff6f5860-343a-4adf-82dc-f28556a622fb"
      },
      "execution_count": 3,
      "outputs": [
        {
          "output_type": "execute_result",
          "data": {
            "text/plain": [
              "array([[0., 0., 0., 0., 0., 0.]])"
            ]
          },
          "metadata": {},
          "execution_count": 3
        }
      ]
    },
    {
      "cell_type": "code",
      "source": [
        "test_x[0,0] = 61.5\n",
        "test_x[0,1] = 55.0\n",
        "test_x[0,2] = 0.21\n",
        "test_x[0,3] = 3.95\n",
        "test_x[0,4] = 3.98\n",
        "test_x[0,5] = 2.43"
      ],
      "metadata": {
        "id": "XrRNAVCzqHSx"
      },
      "execution_count": 4,
      "outputs": []
    },
    {
      "cell_type": "code",
      "source": [
        "prediction = model.predict(test_x)\n",
        "print(f'The model {model} predicts a price for a diamond of ${round(float(prediction[0]), 2)}')"
      ],
      "metadata": {
        "colab": {
          "base_uri": "https://localhost:8080/"
        },
        "id": "RO1sdVAvqHMi",
        "outputId": "cd9a7c9b-60df-41b0-b36a-e7586f8a099c"
      },
      "execution_count": 5,
      "outputs": [
        {
          "output_type": "stream",
          "name": "stdout",
          "text": [
            "The model RandomForestRegressor() predicts a price for a diamond of $399.32\n"
          ]
        }
      ]
    },
    {
      "cell_type": "markdown",
      "source": [
        "##The Random Forest Regression model is chosen because it had the highest accuracy!"
      ],
      "metadata": {
        "id": "15xMAiNduDz5"
      }
    }
  ]
}